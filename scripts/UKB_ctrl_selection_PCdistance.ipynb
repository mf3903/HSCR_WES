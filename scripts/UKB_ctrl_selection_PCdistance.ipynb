{
 "cells": [
  {
   "cell_type": "code",
   "execution_count": null,
   "metadata": {},
   "outputs": [],
   "source": [
    "# Import required libraries\n",
    "import numpy as np\n",
    "import scipy\n",
    "import scipy.spatial.distance\n",
    "import pandas as pd\n",
    "from scipy.spatial.distance import cdist, pdist"
   ]
  },
  {
   "cell_type": "code",
   "execution_count": null,
   "metadata": {},
   "outputs": [
    {
     "name": "stderr",
     "output_type": "stream",
     "text": [
      "/gpfs/share/apps/anaconda3/cpu/5.2.0/lib/python3.6/site-packages/IPython/core/interactiveshell.py:2785: DtypeWarning: Columns (0,1,2,3) have mixed types. Specify dtype option on import or set low_memory=False.\n",
      "  interactivity=interactivity, compiler=compiler, result=result)\n"
     ]
    }
   ],
   "source": [
    "# Set input directory and load principal components\n",
    "input_dir = ''\n",
    "pc = pd.read_csv(input_dir + 'pcs_id_corrected.txt', sep='\\t')"
   ]
  },
  {
   "cell_type": "code",
   "execution_count": null,
   "metadata": {},
   "outputs": [
    {
     "data": {
      "text/html": [
       "<div>\n",
       "<style scoped>\n",
       "    .dataframe tbody tr th:only-of-type {\n",
       "        vertical-align: middle;\n",
       "    }\n",
       "\n",
       "    .dataframe tbody tr th {\n",
       "        vertical-align: top;\n",
       "    }\n",
       "\n",
       "    .dataframe thead th {\n",
       "        text-align: right;\n",
       "    }\n",
       "</style>\n",
       "<table border=\"1\" class=\"dataframe\">\n",
       "  <thead>\n",
       "    <tr style=\"text-align: right;\">\n",
       "      <th></th>\n",
       "      <th>FID</th>\n",
       "      <th>IID</th>\n",
       "      <th>ID_final</th>\n",
       "      <th>originalID</th>\n",
       "      <th>PC1</th>\n",
       "      <th>PC2</th>\n",
       "      <th>PC3</th>\n",
       "      <th>PC4</th>\n",
       "      <th>PC5</th>\n",
       "      <th>PC6</th>\n",
       "      <th>...</th>\n",
       "      <th>PC11</th>\n",
       "      <th>PC12</th>\n",
       "      <th>PC13</th>\n",
       "      <th>PC14</th>\n",
       "      <th>PC15</th>\n",
       "      <th>PC16</th>\n",
       "      <th>PC17</th>\n",
       "      <th>PC18</th>\n",
       "      <th>PC19</th>\n",
       "      <th>PC20</th>\n",
       "    </tr>\n",
       "  </thead>\n",
       "  <tbody>\n",
       "    <tr>\n",
       "      <th>0</th>\n",
       "      <td>10110</td>\n",
       "      <td>12963</td>\n",
       "      <td>10110_12963</td>\n",
       "      <td>10110_12963</td>\n",
       "      <td>0.029947</td>\n",
       "      <td>-0.018058</td>\n",
       "      <td>0.002518</td>\n",
       "      <td>-0.012852</td>\n",
       "      <td>0.016878</td>\n",
       "      <td>0.021854</td>\n",
       "      <td>...</td>\n",
       "      <td>0.004311</td>\n",
       "      <td>0.012021</td>\n",
       "      <td>-0.008002</td>\n",
       "      <td>0.002342</td>\n",
       "      <td>-0.010147</td>\n",
       "      <td>-0.032609</td>\n",
       "      <td>0.022626</td>\n",
       "      <td>0.015491</td>\n",
       "      <td>0.009722</td>\n",
       "      <td>-0.003464</td>\n",
       "    </tr>\n",
       "    <tr>\n",
       "      <th>1</th>\n",
       "      <td>10350</td>\n",
       "      <td>10350</td>\n",
       "      <td>10350</td>\n",
       "      <td>10350</td>\n",
       "      <td>-0.014145</td>\n",
       "      <td>0.017712</td>\n",
       "      <td>-0.012545</td>\n",
       "      <td>-0.060171</td>\n",
       "      <td>0.015612</td>\n",
       "      <td>0.007952</td>\n",
       "      <td>...</td>\n",
       "      <td>0.010568</td>\n",
       "      <td>-0.004113</td>\n",
       "      <td>-0.011025</td>\n",
       "      <td>0.003847</td>\n",
       "      <td>0.002382</td>\n",
       "      <td>0.016562</td>\n",
       "      <td>-0.008974</td>\n",
       "      <td>0.022397</td>\n",
       "      <td>-0.003690</td>\n",
       "      <td>-0.002391</td>\n",
       "    </tr>\n",
       "    <tr>\n",
       "      <th>2</th>\n",
       "      <td>11882</td>\n",
       "      <td>11882</td>\n",
       "      <td>11882</td>\n",
       "      <td>11882</td>\n",
       "      <td>0.020460</td>\n",
       "      <td>-0.014290</td>\n",
       "      <td>-0.005447</td>\n",
       "      <td>-0.019082</td>\n",
       "      <td>0.004106</td>\n",
       "      <td>0.019070</td>\n",
       "      <td>...</td>\n",
       "      <td>0.009176</td>\n",
       "      <td>0.001641</td>\n",
       "      <td>0.008795</td>\n",
       "      <td>0.024784</td>\n",
       "      <td>0.009690</td>\n",
       "      <td>0.034123</td>\n",
       "      <td>-0.005634</td>\n",
       "      <td>-0.001177</td>\n",
       "      <td>0.022433</td>\n",
       "      <td>0.014108</td>\n",
       "    </tr>\n",
       "    <tr>\n",
       "      <th>3</th>\n",
       "      <td>12216</td>\n",
       "      <td>12216</td>\n",
       "      <td>12216</td>\n",
       "      <td>12216</td>\n",
       "      <td>0.024625</td>\n",
       "      <td>-0.015628</td>\n",
       "      <td>0.018146</td>\n",
       "      <td>-0.018515</td>\n",
       "      <td>0.024689</td>\n",
       "      <td>-0.027744</td>\n",
       "      <td>...</td>\n",
       "      <td>-0.018245</td>\n",
       "      <td>0.007810</td>\n",
       "      <td>0.017956</td>\n",
       "      <td>-0.006415</td>\n",
       "      <td>-0.010565</td>\n",
       "      <td>0.010982</td>\n",
       "      <td>0.014479</td>\n",
       "      <td>0.022348</td>\n",
       "      <td>-0.007614</td>\n",
       "      <td>-0.004879</td>\n",
       "    </tr>\n",
       "    <tr>\n",
       "      <th>4</th>\n",
       "      <td>12262</td>\n",
       "      <td>12262</td>\n",
       "      <td>12262</td>\n",
       "      <td>12262</td>\n",
       "      <td>0.009499</td>\n",
       "      <td>0.014554</td>\n",
       "      <td>0.008913</td>\n",
       "      <td>0.000770</td>\n",
       "      <td>0.009546</td>\n",
       "      <td>0.028477</td>\n",
       "      <td>...</td>\n",
       "      <td>0.014418</td>\n",
       "      <td>0.016504</td>\n",
       "      <td>0.008511</td>\n",
       "      <td>-0.014110</td>\n",
       "      <td>0.023422</td>\n",
       "      <td>-0.017181</td>\n",
       "      <td>0.013149</td>\n",
       "      <td>-0.014649</td>\n",
       "      <td>-0.013162</td>\n",
       "      <td>0.006512</td>\n",
       "    </tr>\n",
       "  </tbody>\n",
       "</table>\n",
       "<p>5 rows × 24 columns</p>\n",
       "</div>"
      ],
      "text/plain": [
       "     FID    IID     ID_final   originalID       PC1       PC2       PC3  \\\n",
       "0  10110  12963  10110_12963  10110_12963  0.029947 -0.018058  0.002518   \n",
       "1  10350  10350        10350        10350 -0.014145  0.017712 -0.012545   \n",
       "2  11882  11882        11882        11882  0.020460 -0.014290 -0.005447   \n",
       "3  12216  12216        12216        12216  0.024625 -0.015628  0.018146   \n",
       "4  12262  12262        12262        12262  0.009499  0.014554  0.008913   \n",
       "\n",
       "        PC4       PC5       PC6  ...      PC11      PC12      PC13      PC14  \\\n",
       "0 -0.012852  0.016878  0.021854  ...  0.004311  0.012021 -0.008002  0.002342   \n",
       "1 -0.060171  0.015612  0.007952  ...  0.010568 -0.004113 -0.011025  0.003847   \n",
       "2 -0.019082  0.004106  0.019070  ...  0.009176  0.001641  0.008795  0.024784   \n",
       "3 -0.018515  0.024689 -0.027744  ... -0.018245  0.007810  0.017956 -0.006415   \n",
       "4  0.000770  0.009546  0.028477  ...  0.014418  0.016504  0.008511 -0.014110   \n",
       "\n",
       "       PC15      PC16      PC17      PC18      PC19      PC20  \n",
       "0 -0.010147 -0.032609  0.022626  0.015491  0.009722 -0.003464  \n",
       "1  0.002382  0.016562 -0.008974  0.022397 -0.003690 -0.002391  \n",
       "2  0.009690  0.034123 -0.005634 -0.001177  0.022433  0.014108  \n",
       "3 -0.010565  0.010982  0.014479  0.022348 -0.007614 -0.004879  \n",
       "4  0.023422 -0.017181  0.013149 -0.014649 -0.013162  0.006512  \n",
       "\n",
       "[5 rows x 24 columns]"
      ]
     },
     "execution_count": 20,
     "metadata": {},
     "output_type": "execute_result"
    }
   ],
   "source": [
    "# Preview the principal components DataFrame\n",
    "pc.head()"
   ]
  },
  {
   "cell_type": "code",
   "execution_count": null,
   "metadata": {},
   "outputs": [],
   "source": [
    "# Load list of case sample IDs\n",
    "case_list = pd.read_csv(\n",
    "    'case_samplename.txt',\n",
    "    sep='\\t',\n",
    "    names=['ID_final']\n",
    ")"
   ]
  },
  {
   "cell_type": "code",
   "execution_count": null,
   "metadata": {},
   "outputs": [],
   "source": [
    "# Select principal components for case samples and keep only PC1, PC2, PC3\n",
    "case_pc = pc[pc['originalID'].isin(case_list['ID_final'])].drop(['FID', 'IID', 'ID_final', 'originalID'], axis=1)[['PC1', 'PC2', 'PC3']]"
   ]
  },
  {
   "cell_type": "code",
   "execution_count": null,
   "metadata": {},
   "outputs": [],
   "source": [
    "# Convert case principal components to numpy array and round values\n",
    "case_pc_array = case_pc.to_numpy(dtype='float32')\n",
    "case_pc_array_round = case_pc_array.round(decimals=4)"
   ]
  },
  {
   "cell_type": "code",
   "execution_count": null,
   "metadata": {},
   "outputs": [],
   "source": [
    "# Prepare control principal components and convert to numpy array\n",
    "control_pc = pc.drop(['FID', 'IID', 'ID_final', 'originalID'], axis=1)[['PC1', 'PC2', 'PC3']]\n",
    "control_pc_array = control_pc.to_numpy(dtype='float32')\n",
    "control_pc_array_round = control_pc_array.round(decimals=4)"
   ]
  },
  {
   "cell_type": "code",
   "execution_count": null,
   "metadata": {},
   "outputs": [],
   "source": [
    "# Compute Euclidean distance matrix between case and control samples\n",
    "distance_matrix = scipy.spatial.distance.cdist(case_pc_array_round, control_pc_array_round)"
   ]
  },
  {
   "cell_type": "code",
   "execution_count": null,
   "metadata": {},
   "outputs": [],
   "source": [
    "# Convert distance matrix to numpy matrix\n",
    "distance_matrix_np = np.asmatrix(distance_matrix)"
   ]
  },
  {
   "cell_type": "code",
   "execution_count": null,
   "metadata": {},
   "outputs": [],
   "source": [
    "# Create a DataFrame for the distance matrix with appropriate row and column labels\n",
    "distance_df = pd.DataFrame(distance_matrix_np, columns=pc['originalID'], index=case_list['ID_final'])"
   ]
  },
  {
   "cell_type": "code",
   "execution_count": null,
   "metadata": {},
   "outputs": [],
   "source": [
    "# Set output directory for results\n",
    "output_dir = ''"
   ]
  },
  {
   "cell_type": "code",
   "execution_count": null,
   "metadata": {},
   "outputs": [],
   "source": [
    "# Save the distance matrix to a tab-delimited text file\n",
    "distance_df.to_csv(output_dir + 'euclidean_matrix_update.txt', sep='\\t')"
   ]
  },
  {
   "cell_type": "code",
   "execution_count": null,
   "metadata": {},
   "outputs": [],
   "source": [
    "# ...existing code..."
   ]
  }
 ],
 "metadata": {
  "kernelspec": {
   "display_name": "Python 3",
   "language": "python",
   "name": "python3"
  },
  "language_info": {
   "codemirror_mode": {
    "name": "ipython",
    "version": 3
   },
   "file_extension": ".py",
   "mimetype": "text/x-python",
   "name": "python",
   "nbconvert_exporter": "python",
   "pygments_lexer": "ipython3",
   "version": "3.6.5"
  }
 },
 "nbformat": 4,
 "nbformat_minor": 2
}
