{
 "cells": [
  {
   "cell_type": "markdown",
   "metadata": {},
   "source": [
    "# Goal\n",
    "\n",
    "Parse the CSQ field from VEP-annotated VCF files into individual annotation dictionaries for easy downstream search and analysis.\n",
    "\n",
    "References:\n",
    "- [Parsing the VEP/LoF VCF](https://github.com/konradjk/loftee)\n",
    "- [read_vep_vcf.py example](https://github.com/konradjk/loftee/blob/master/src/read_vep_vcf.py)"
   ]
  },
  {
   "cell_type": "code",
   "execution_count": null,
   "metadata": {},
   "outputs": [],
   "source": [
    "# Import required libraries\n",
    "import argparse\n",
    "import gzip\n",
    "import re\n",
    "import sys\n",
    "import pandas as pd"
   ]
  },
  {
   "cell_type": "code",
   "execution_count": null,
   "metadata": {},
   "outputs": [],
   "source": [
    "# Set VCF file path (update as needed)\n",
    "vcf = '/path/to/input_vep_annotated.vcf'"
   ]
  },
  {
   "cell_type": "code",
   "execution_count": null,
   "metadata": {},
   "outputs": [],
   "source": [
    "# Open VCF file (supports .gz and uncompressed)\n",
    "f = gzip.open(vcf) if vcf.endswith('.gz') else open(vcf)"
   ]
  },
  {
   "cell_type": "code",
   "execution_count": null,
   "metadata": {},
   "outputs": [],
   "source": [
    "# Read all lines from the VCF file\n",
    "lines = f.readlines()"
   ]
  },
  {
   "cell_type": "code",
   "execution_count": null,
   "metadata": {},
   "outputs": [],
   "source": [
    "# Parse VEP header and extract annotation fields\n",
    "vep_field_names = None\n",
    "header = None\n",
    "annotations_list = []\n",
    "\n",
    "for line in lines:\n",
    "    line = line.strip()\n",
    "    if line.startswith('#'):\n",
    "        line = line.lstrip('#')\n",
    "        if 'ID=CSQ' in line:\n",
    "            vep_field_names = line.split('Format: ')[-1].strip('\">').split('|')\n",
    "        if line.startswith('CHROM'):\n",
    "            header = line.split()\n",
    "            header = dict(zip(header, range(len(header))))\n",
    "        continue\n",
    "\n",
    "    if vep_field_names is None:\n",
    "        sys.stderr.write(\"VCF file does not have a VEP header line. Exiting.\\n\")\n",
    "        sys.exit(1)\n",
    "    if header is None:\n",
    "        sys.stderr.write(\"VCF file does not have a header line (CHROM POS etc.). Exiting.\\n\")\n",
    "        sys.exit(1)\n",
    "\n",
    "    # Extract annotation info from INFO and ALT fields\n",
    "    fields = line.split('\\t')\n",
    "    info_field = dict([(x.split('=', 1)) if '=' in x else (x, x) for x in re.split(';(?=\\w)', fields[header['INFO']])])\n",
    "\n",
    "    # Only process lines with CSQ annotation\n",
    "    if 'CSQ' not in info_field:\n",
    "        continue\n",
    "    annotations = [dict(zip(vep_field_names, x.split('|'))) for x in info_field['CSQ'].split(',') if len(vep_field_names) == len(x.split('|'))]\n",
    "    annotations_list.append(annotations)"
   ]
  },
  {
   "cell_type": "code",
   "execution_count": null,
   "metadata": {},
   "outputs": [],
   "source": [
    "# Extract LoF annotation for each variant line\n",
    "LoF = [','.join(set(str(i.get('LoF')) for i in a_list)) for a_list in annotations_list]\n",
    "print(len(LoF))"
   ]
  },
  {
   "cell_type": "code",
   "execution_count": null,
   "metadata": {},
   "outputs": [],
   "source": [
    "# Create a DataFrame with chrom, pos, id, ref, alt, and LoF annotation\n",
    "vcf_pos = pd.read_csv(vcf, comment='#', delimiter='\\t', header=None)\n",
    "vcf_pos_only = vcf_pos.iloc[:, :5]\n",
    "vcf_pos_only.columns = ['chrom', 'pos', 'ID', 'ref', 'alt']\n",
    "vcf_pos_only['LoF_val'] = LoF\n",
    "\n",
    "# Export the DataFrame to a tab-delimited file\n",
    "vcf_out = '/path/to/output_vep_annot_cleaned.txt'\n",
    "vcf_pos_only.to_csv(vcf_out, sep='\\t', index=False)"
   ]
  }
 ],
 "metadata": {
  "interpreter": {
   "hash": "f649e50dc1a690a2783b992fde4587f7efa16f33da5538c8dd7953e8476e2cdf"
  },
  "kernelspec": {
   "display_name": "Python 3.8.5 64-bit ('base': conda)",
   "language": "python",
   "name": "python3"
  },
  "language_info": {
   "codemirror_mode": {
    "name": "ipython",
    "version": 3
   },
   "file_extension": ".py",
   "mimetype": "text/x-python",
   "name": "python",
   "nbconvert_exporter": "python",
   "pygments_lexer": "ipython3",
   "version": "3.8.5"
  },
  "orig_nbformat": 4
 },
 "nbformat": 4,
 "nbformat_minor": 2
}
